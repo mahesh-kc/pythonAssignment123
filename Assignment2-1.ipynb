{
 "cells": [
  {
   "cell_type": "code",
   "execution_count": 1,
   "metadata": {},
   "outputs": [
    {
     "name": "stdout",
     "output_type": "stream",
     "text": [
      "Enter marks of English: 80\n",
      "Enter marks of Math: 70\n",
      "Enter marks of Intro to Computer: 75\n",
      "Enter marks of Algorithm: 80\n",
      "Enter marks of Python Programming: 90\n",
      "79\n",
      "Grade A\n"
     ]
    }
   ],
   "source": [
    "sub1 = int(input(\"Enter marks of English: \"))\n",
    "sub2 = int(input(\"Enter marks of Math: \"))\n",
    "sub3 = int(input(\"Enter marks of Intro to Computer: \"))\n",
    "sub4 = int(input(\"Enter marks of Algorithm: \"))\n",
    "sub5 = int(input(\"Enter marks of Python Programming: \"))\n",
    "\n",
    "totalMarks = (sub1+sub2+sub3+sub4+sub5) // 5\n",
    "print(totalMarks)\n",
    "if totalMarks >= 80:\n",
    "    print(\"Grade A+\")\n",
    "elif totalMarks >= 70:\n",
    "    print(\"Grade A\")\n",
    "elif totalMarks >= 60:\n",
    "    print(\"Grade B\")\n",
    "elif totalMarks >= 50:\n",
    "    print(\"Grade C\")\n",
    "elif totalMarks >= 40:\n",
    "    print(\"Grade D\")\n",
    "else:\n",
    "    print(\"Sorry! You are Fail\")"
   ]
  },
  {
   "cell_type": "code",
   "execution_count": null,
   "metadata": {},
   "outputs": [],
   "source": []
  }
 ],
 "metadata": {
  "kernelspec": {
   "display_name": "Python 3",
   "language": "python",
   "name": "python3"
  },
  "language_info": {
   "codemirror_mode": {
    "name": "ipython",
    "version": 3
   },
   "file_extension": ".py",
   "mimetype": "text/x-python",
   "name": "python",
   "nbconvert_exporter": "python",
   "pygments_lexer": "ipython3",
   "version": "3.7.3"
  }
 },
 "nbformat": 4,
 "nbformat_minor": 2
}
